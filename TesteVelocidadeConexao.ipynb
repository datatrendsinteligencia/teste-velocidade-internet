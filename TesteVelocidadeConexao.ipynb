{
 "cells": [
  {
   "cell_type": "code",
   "execution_count": 1,
   "metadata": {},
   "outputs": [],
   "source": [
    "#Este código foi uma pequena adaptação do código que li no perfil de uma colega no LinkeIn.\n",
    "import schedule\n",
    "import time\n",
    "import speedtest\n",
    "from datetime import datetime\n",
    "import pandas as pd\n",
    "import numpy as np\n",
    "from threading import Timer"
   ]
  },
  {
   "cell_type": "code",
   "execution_count": 2,
   "metadata": {},
   "outputs": [],
   "source": [
    "# Função para gravar os dados referentes à velocidade da conexão de internet em um arquivo Excel\n",
    "def internet():\n",
    "    df = pd.read_excel('coleta.xlsx', sheet_name='dados', engine='openpyxl')\n",
    "    s = speedtest.Speedtest()\n",
    "    data_atual = datetime.now().strftime('%d/%m/%Y')\n",
    "    hora_atual = datetime.now().strftime('%H:%M')\n",
    "    velocidade = s.download(threads=None)*(10**-6)\n",
    "    df.loc[len(df)] = [data_atual,hora_atual, velocidade]\n",
    "    df.to_excel('coleta.xlsx',sheet_name='dados',index=False)\n",
    "    Timer(1800, internet).start()"
   ]
  },
  {
   "cell_type": "code",
   "execution_count": 3,
   "metadata": {},
   "outputs": [],
   "source": [
    "internet()"
   ]
  },
  {
   "cell_type": "code",
   "execution_count": null,
   "metadata": {},
   "outputs": [],
   "source": []
  }
 ],
 "metadata": {
  "kernelspec": {
   "display_name": "Python 3",
   "language": "python",
   "name": "python3"
  },
  "language_info": {
   "codemirror_mode": {
    "name": "ipython",
    "version": 3
   },
   "file_extension": ".py",
   "mimetype": "text/x-python",
   "name": "python",
   "nbconvert_exporter": "python",
   "pygments_lexer": "ipython3",
   "version": "3.8.5"
  }
 },
 "nbformat": 4,
 "nbformat_minor": 4
}
